{
 "cells": [
  {
   "cell_type": "code",
   "execution_count": 10,
   "id": "fb6e8a92",
   "metadata": {
    "collapsed": true
   },
   "outputs": [
    {
     "name": "stdout",
     "output_type": "stream",
     "text": [
      "Enter Year : 100\n",
      "100 Is not a leap year.\n"
     ]
    }
   ],
   "source": [
    "# Question No -1\n",
    "Year = int(input('Enter Year : '))\n",
    "if (Year%4== 0 and Year%100 != 0):\n",
    "    print(Year, \"Is a leap year.\")\n",
    "else :\n",
    "    print(Year, \"Is not a leap year.\")"
   ]
  },
  {
   "cell_type": "code",
   "execution_count": 4,
   "id": "927172dd",
   "metadata": {
    "collapsed": true
   },
   "outputs": [
    {
     "name": "stdout",
     "output_type": "stream",
     "text": [
      "Enter The Sentence:akash,.;'[]'/'.!##(#*#&^%$#Todkar\n",
      " akashTodkar\n"
     ]
    }
   ],
   "source": [
    "# Question No -2\n",
    "import string\n",
    "x = string.punctuation\n",
    "no_punct = \" \"\n",
    "y = str(input(\"Enter The Sentence:\"))\n",
    "for char in y:\n",
    "    if char not in x:\n",
    "        no_punct = no_punct + char\n",
    "print(no_punct)"
   ]
  },
  {
   "cell_type": "code",
   "execution_count": null,
   "id": "ba3bd3be",
   "metadata": {},
   "outputs": [],
   "source": [
    "# Question No -3\n",
    "a = input('Enter the 1st number= ')\n",
    "b = input('Enter the 2nd number= ')\n",
    "print(a,b)\n",
    "a,b = b,a\n",
    "print(a,b)"
   ]
  },
  {
   "cell_type": "code",
   "execution_count": 43,
   "id": "4257b19e",
   "metadata": {
    "collapsed": true
   },
   "outputs": [
    {
     "data": {
      "text/plain": [
       "150"
      ]
     },
     "execution_count": 43,
     "metadata": {},
     "output_type": "execute_result"
    }
   ],
   "source": [
    "# Question No -4\n",
    "integer = 10\n",
    "string = \"15\"\n",
    "a = int(string)\n",
    "b = integer * a\n",
    "b"
   ]
  },
  {
   "cell_type": "code",
   "execution_count": 10,
   "id": "b925cd30",
   "metadata": {
    "collapsed": true
   },
   "outputs": [
    {
     "data": {
      "text/plain": [
       "'15151515151515151515'"
      ]
     },
     "execution_count": 10,
     "metadata": {},
     "output_type": "execute_result"
    }
   ],
   "source": [
    "# Question No -4\n",
    "integer = 10\n",
    "string = \"15\"\n",
    "b = integer * string\n",
    "b"
   ]
  },
  {
   "cell_type": "code",
   "execution_count": 7,
   "id": "07a80cdb",
   "metadata": {
    "collapsed": true
   },
   "outputs": [
    {
     "name": "stdout",
     "output_type": "stream",
     "text": [
      "A\n",
      "BC\n",
      "DEF\n",
      "GHIJ\n",
      "KLMNO\n",
      "PQRSTU\n"
     ]
    }
   ],
   "source": [
    "# question -5\n",
    "abc = 65\n",
    "for i in range(0,6):\n",
    "    for j in range(0,i+1):\n",
    "        char = chr(abc)\n",
    "        print(char,end=\"\")\n",
    "        abc += 1\n",
    "    print()"
   ]
  },
  {
   "cell_type": "code",
   "execution_count": 22,
   "id": "ad73bbb1",
   "metadata": {
    "collapsed": true
   },
   "outputs": [
    {
     "name": "stdout",
     "output_type": "stream",
     "text": [
      "Enter the number= 5\n",
      "2 x 1 = 2\n",
      "2 x 2 = 4\n",
      "2 x 3 = 6\n",
      "2 x 4 = 8\n",
      "2 x 5 = 10\n",
      "2 x 6 = 12\n",
      "2 x 7 = 14\n",
      "2 x 8 = 16\n",
      "2 x 9 = 18\n",
      "2 x 10 = 20\n",
      "\n",
      "\n",
      "3 x 1 = 3\n",
      "3 x 2 = 6\n",
      "3 x 3 = 9\n",
      "3 x 4 = 12\n",
      "3 x 5 = 15\n",
      "3 x 6 = 18\n",
      "3 x 7 = 21\n",
      "3 x 8 = 24\n",
      "3 x 9 = 27\n",
      "3 x 10 = 30\n",
      "\n",
      "\n",
      "4 x 1 = 4\n",
      "4 x 2 = 8\n",
      "4 x 3 = 12\n",
      "4 x 4 = 16\n",
      "4 x 5 = 20\n",
      "4 x 6 = 24\n",
      "4 x 7 = 28\n",
      "4 x 8 = 32\n",
      "4 x 9 = 36\n",
      "4 x 10 = 40\n",
      "\n",
      "\n",
      "5 x 1 = 5\n",
      "5 x 2 = 10\n",
      "5 x 3 = 15\n",
      "5 x 4 = 20\n",
      "5 x 5 = 25\n",
      "5 x 6 = 30\n",
      "5 x 7 = 35\n",
      "5 x 8 = 40\n",
      "5 x 9 = 45\n",
      "5 x 10 = 50\n",
      "\n",
      "\n"
     ]
    }
   ],
   "source": [
    "# Question No -6\n",
    "n = int(input(\"Enter the number= \"))\n",
    "for n in range(2 , n + 1):\n",
    "    for i in range (1,11):\n",
    "        print(n , 'x' , i , '=' , n*i)\n",
    "    print(\"\\n\")"
   ]
  },
  {
   "cell_type": "code",
   "execution_count": 9,
   "id": "06b7345d",
   "metadata": {
    "collapsed": true
   },
   "outputs": [
    {
     "name": "stdout",
     "output_type": "stream",
     "text": [
      "Enter the height in centimeters:170\n",
      "The length in inches 66.98\n",
      "The length in feet 5.5760000000000005\n"
     ]
    }
   ],
   "source": [
    "# Question No -7\n",
    "CM=int(input(\"Enter the height in centimeters:\"))\n",
    "inches = 0.394 * CM\n",
    "feet = 0.0328 * CM\n",
    "print(\"The length in inches\", inches)\n",
    "print(\"The length in feet\", feet)"
   ]
  },
  {
   "cell_type": "code",
   "execution_count": 19,
   "id": "558a4c6c",
   "metadata": {
    "collapsed": true
   },
   "outputs": [
    {
     "name": "stdout",
     "output_type": "stream",
     "text": [
      "* \r\n",
      "* * \r\n",
      "* * * \r\n",
      "* * \r\n",
      "* \r\n",
      "\r\n"
     ]
    }
   ],
   "source": [
    "# Question No -8\n",
    "#rows = 3\n",
    "for i in range(0 , 3):\n",
    "    for j in range(0 , i+1):\n",
    "        print(\"*\" , end = ' ')\n",
    "    print(\"\\r\")\n",
    "    \n",
    "for i in range(3 , 0 , -1):\n",
    "    for j in range (0 , i-1):\n",
    "        print(\"*\" , end =' ')\n",
    "    print(\"\\r\")"
   ]
  },
  {
   "cell_type": "code",
   "execution_count": 16,
   "id": "a5eee06d",
   "metadata": {
    "collapsed": true
   },
   "outputs": [
    {
     "name": "stdout",
     "output_type": "stream",
     "text": [
      "{'Jon': 26, 'Roger': 34, 'Jessica': 13, 'Monica': 24, 'Ashton': 65}\n"
     ]
    }
   ],
   "source": [
    "#Question No -9\n",
    "students = [26,'Jon',34,'Roger',13,'Jessica',24,'Monica',65,'Ashton']\n",
    "dct={}\n",
    "for i in range (0 , len(students), 2):\n",
    "    dct[students[i + 1]] = students[i]          \n",
    "print(dct)"
   ]
  },
  {
   "cell_type": "code",
   "execution_count": 24,
   "id": "e117d795",
   "metadata": {
    "collapsed": true
   },
   "outputs": [
    {
     "name": "stdout",
     "output_type": "stream",
     "text": [
      "Enter 1st string: listen\n",
      "Enter 2nd string: silent\n",
      "The strings are anagrams.\n"
     ]
    }
   ],
   "source": [
    "#Question No -10\n",
    "S1 = str(input(\"Enter 1st string: \"))\n",
    "S2 = str(input(\"Enter 2nd string: \"))\n",
    "if(sorted(S1) == sorted(S2)):\n",
    "    print(\"The strings are anagrams.\")\n",
    "else:\n",
    "    print(\"The strings are not anagrams.\")"
   ]
  },
  {
   "cell_type": "code",
   "execution_count": 20,
   "id": "36a9a675",
   "metadata": {
    "collapsed": true
   },
   "outputs": [
    {
     "name": "stdout",
     "output_type": "stream",
     "text": [
      "['C', 'c++', 'data science', 'Hadoop', 'python', 'Scala']\n"
     ]
    }
   ],
   "source": [
    "#Question No -11\n",
    "courses = ['python', 'Hadoop', 'data science', 'Scala', 'C', 'c++']\n",
    "for i in range(len(courses)):\n",
    "    for j in range(i+1, len(courses)):\n",
    "        if(courses[i][0].lower() > courses[j][0].lower()):\n",
    "            courses[i], courses[j] = courses[j], courses[i]\n",
    "print(courses)            "
   ]
  },
  {
   "cell_type": "code",
   "execution_count": 4,
   "id": "be667a5f",
   "metadata": {
    "collapsed": true
   },
   "outputs": [
    {
     "name": "stdout",
     "output_type": "stream",
     "text": [
      "Sour fruit are:  ['Lemon', 'Grapes', 'Kiwi', 'Orange', 'Limes']\n"
     ]
    }
   ],
   "source": [
    "#Question No -12\n",
    "output=[]\n",
    "fruits = (('Lemon','sour'), ('DragonFruit', 'Sweet'), ('Grapes','soUr'), ('Kiwi','Sour'), \n",
    "          ('Apples','sweet'), ('Orange','sour'), ('Blueberries','sweet'), ('Limes','Sour'))\n",
    "for i in fruits:\n",
    "    fruit,taste = i\n",
    "    abc = \"sour\"\n",
    "    if taste.lower()==abc.lower():\n",
    "        output.append(fruit)\n",
    "print(\"Sour fruit are: \",output)"
   ]
  },
  {
   "cell_type": "code",
   "execution_count": 22,
   "id": "38e17b3d",
   "metadata": {
    "collapsed": true
   },
   "outputs": [
    {
     "name": "stdout",
     "output_type": "stream",
     "text": [
      "This are the positive sentences:  ['This government policies are good', 'The way he played showed that he is one of the best players in the world', 'Her acting in the play was awesome', 'Its nice to hear this little kids laugh']\n",
      "This are the negative sentences:  ['bad implementation', 'The wine tastes awful']\n"
     ]
    }
   ],
   "source": [
    "#Question No -13\n",
    "tweets = ['This government policies are good', 'bad implementation', \n",
    "          'The way he played showed that he is one of the best players in the world', \n",
    "          'Her acting in the play was awesome', 'The wine tastes awful', \n",
    "          'Its nice to hear this little kids laugh']\n",
    "positive = ['good','awesome', 'best', 'nice']\n",
    "negative = ['worst','awful', 'bad']\n",
    "\n",
    "positive_words=[]\n",
    "negative_words=[]\n",
    "for sentence in tweets:\n",
    "    for posi in positive:\n",
    "        if posi in sentence:\n",
    "            positive_words.append(sentence)\n",
    "    for nega in negative:\n",
    "        if nega in sentence:\n",
    "            negative_words.append(sentence)\n",
    "print(\"This are the positive sentences: \",positive_words)\n",
    "print(\"This are the negative sentences: \",negative_words)"
   ]
  },
  {
   "cell_type": "code",
   "execution_count": 9,
   "id": "57a93368",
   "metadata": {},
   "outputs": [],
   "source": [
    "#Question No -13\n",
    "tweets = ['This government policies are good', 'bad implementation', \n",
    "          'The way he played showed that he is one of the best players in the world', \n",
    "          'Her acting in the play was awesome', 'The wine tastes awful', \n",
    "          'Its nice to hear this little kids laugh']\n",
    "positive = ['good','awesome', 'best', 'nice']\n",
    "negative = ['worst','awful', 'bad']\n",
    "\n",
    "def analyze(text, pos_words, neg_words):\n",
    "    score = 0\n",
    "    tokens = text.split(\" \")\n",
    "    score += sum(1 for word in tokens if word in pos_words)\n",
    "    score += sum(-1 for word in tokens if word in neg_words)\n",
    "    \n",
    "    if score > 0:\n",
    "        sentiment = \"Positive\"\n",
    "    elif score < 0:\n",
    "        sentiment = \"Negative\"\n",
    "    return sentiment"
   ]
  },
  {
   "cell_type": "code",
   "execution_count": 10,
   "id": "11cef2e0",
   "metadata": {
    "collapsed": true
   },
   "outputs": [
    {
     "name": "stdout",
     "output_type": "stream",
     "text": [
      "tweet: This government policies are good : Positive\n",
      "tweet: bad implementation : Negative\n",
      "tweet: The way he played showed that he is one of the best players in the world : Positive\n",
      "tweet: Her acting in the play was awesome : Positive\n",
      "tweet: The wine tastes awful : Negative\n",
      "tweet: Its nice to hear this little kids laugh : Positive\n"
     ]
    }
   ],
   "source": [
    "for text in tweets:\n",
    "    sentiment = analyze(text, positive, negative)\n",
    "    print(f\"tweet: {text} : {sentiment}\")"
   ]
  },
  {
   "cell_type": "code",
   "execution_count": 29,
   "id": "692bbd41",
   "metadata": {
    "collapsed": true
   },
   "outputs": [
    {
     "data": {
      "text/plain": [
       "array([[ 19,  37,  34],\n",
       "       [ 43,  97,  73],\n",
       "       [ 67, 157, 112]])"
      ]
     },
     "execution_count": 29,
     "metadata": {},
     "output_type": "execute_result"
    }
   ],
   "source": [
    "# Question -14\n",
    "import numpy as np\n",
    "X = np.array([[1,2,3],[4,5,6],[7,8,9]])\n",
    "Y = np.array([[1,8,1],[3,7,3],[4,5,9]])\n",
    "Multi = X.dot(Y)\n",
    "Multi"
   ]
  },
  {
   "cell_type": "code",
   "execution_count": 11,
   "id": "ceeca56e",
   "metadata": {
    "collapsed": true
   },
   "outputs": [
    {
     "name": "stdout",
     "output_type": "stream",
     "text": [
      "{'emp01': 'Raj', 'emp02': 'Sheela', 'emp03': 'Joseph'}\n"
     ]
    }
   ],
   "source": [
    "#Question No -15\n",
    "Employee = {'emp 01' : 'Raj', 'emp 02' : 'Sheela', 'emp 0 3 ': 'Joseph'}\n",
    "Employee = {k.replace(' ',''):v \n",
    "            for k,v in Employee.items()}\n",
    "print(Employee)"
   ]
  },
  {
   "cell_type": "code",
   "execution_count": 1,
   "id": "253fca43",
   "metadata": {
    "collapsed": true
   },
   "outputs": [
    {
     "name": "stdout",
     "output_type": "stream",
     "text": [
      "     Subject  Score\n",
      "0      Maths    345\n",
      "1    Physics    432\n",
      "2  Chemistry    456\n",
      "3    Biology    234\n",
      "4    Geology    254\n",
      "\n",
      "\n",
      "Subjects For Which Marks Are Between 300 and 500:\n",
      " 0        Maths\n",
      "1      Physics\n",
      "2    Chemistry\n",
      "Name: Subject, dtype: object\n"
     ]
    }
   ],
   "source": [
    "#Question No -16\n",
    "import pandas as pd\n",
    "data = [['Maths',345], ['Physics',432], ['Chemistry',456], ['Biology',234], ['Geology',254]]\n",
    "df = pd.DataFrame(data , columns=['Subject', 'Score'])\n",
    "print(df)\n",
    "print(\"\\n\")\n",
    "\n",
    "print('Subjects For Which Marks Are Between 300 and 500:\\n', df['Subject'][df['Score'].between(300, 500)])"
   ]
  },
  {
   "cell_type": "code",
   "execution_count": 2,
   "id": "7dbded49",
   "metadata": {
    "collapsed": true
   },
   "outputs": [
    {
     "name": "stdout",
     "output_type": "stream",
     "text": [
      "12459\n",
      "12447\n",
      "12678\n"
     ]
    }
   ],
   "source": [
    "# Question -17\n",
    "Sales = [1432,143223,2043332,1642357,54327,754338,12459,75435,224454,1433,12447,25532,86674,74338,12678]\n",
    "for i in Sales:\n",
    "    if (i>10000) and (i<20000):\n",
    "        print(i)   "
   ]
  },
  {
   "cell_type": "code",
   "execution_count": 3,
   "id": "7baf31d9",
   "metadata": {
    "collapsed": true
   },
   "outputs": [
    {
     "data": {
      "text/html": [
       "<div>\n",
       "<style scoped>\n",
       "    .dataframe tbody tr th:only-of-type {\n",
       "        vertical-align: middle;\n",
       "    }\n",
       "\n",
       "    .dataframe tbody tr th {\n",
       "        vertical-align: top;\n",
       "    }\n",
       "\n",
       "    .dataframe thead th {\n",
       "        text-align: right;\n",
       "    }\n",
       "</style>\n",
       "<table border=\"1\" class=\"dataframe\">\n",
       "  <thead>\n",
       "    <tr style=\"text-align: right;\">\n",
       "      <th></th>\n",
       "      <th>Name</th>\n",
       "      <th>Rank</th>\n",
       "    </tr>\n",
       "  </thead>\n",
       "  <tbody>\n",
       "    <tr>\n",
       "      <th>3</th>\n",
       "      <td>Tom</td>\n",
       "      <td>84</td>\n",
       "    </tr>\n",
       "    <tr>\n",
       "      <th>0</th>\n",
       "      <td>Joy</td>\n",
       "      <td>115</td>\n",
       "    </tr>\n",
       "    <tr>\n",
       "      <th>2</th>\n",
       "      <td>Karan</td>\n",
       "      <td>341</td>\n",
       "    </tr>\n",
       "    <tr>\n",
       "      <th>1</th>\n",
       "      <td>Mia</td>\n",
       "      <td>451</td>\n",
       "    </tr>\n",
       "  </tbody>\n",
       "</table>\n",
       "</div>"
      ],
      "text/plain": [
       "    Name  Rank\n",
       "3    Tom    84\n",
       "0    Joy   115\n",
       "2  Karan   341\n",
       "1    Mia   451"
      ]
     },
     "execution_count": 3,
     "metadata": {},
     "output_type": "execute_result"
    }
   ],
   "source": [
    "# Question No -18\n",
    "import pandas as pd\n",
    "R = {'Name': (['Joy', 'Mia' , 'Karan' , 'Tom']),\n",
    "    'Rank': ([115 , 451 , 341 , 84])}\n",
    "df = pd.DataFrame(R)\n",
    "df\n",
    "df.sort_values('Rank')"
   ]
  },
  {
   "cell_type": "code",
   "execution_count": 4,
   "id": "fdb4213a",
   "metadata": {
    "collapsed": true
   },
   "outputs": [
    {
     "data": {
      "text/html": [
       "<div>\n",
       "<style scoped>\n",
       "    .dataframe tbody tr th:only-of-type {\n",
       "        vertical-align: middle;\n",
       "    }\n",
       "\n",
       "    .dataframe tbody tr th {\n",
       "        vertical-align: top;\n",
       "    }\n",
       "\n",
       "    .dataframe thead th {\n",
       "        text-align: right;\n",
       "    }\n",
       "</style>\n",
       "<table border=\"1\" class=\"dataframe\">\n",
       "  <thead>\n",
       "    <tr style=\"text-align: right;\">\n",
       "      <th></th>\n",
       "      <th>Name</th>\n",
       "      <th>Rank</th>\n",
       "    </tr>\n",
       "  </thead>\n",
       "  <tbody>\n",
       "    <tr>\n",
       "      <th>1</th>\n",
       "      <td>Mia</td>\n",
       "      <td>451</td>\n",
       "    </tr>\n",
       "    <tr>\n",
       "      <th>0</th>\n",
       "      <td>Joy</td>\n",
       "      <td>115</td>\n",
       "    </tr>\n",
       "    <tr>\n",
       "      <th>2</th>\n",
       "      <td>Karan</td>\n",
       "      <td>341</td>\n",
       "    </tr>\n",
       "    <tr>\n",
       "      <th>3</th>\n",
       "      <td>Tom</td>\n",
       "      <td>84</td>\n",
       "    </tr>\n",
       "  </tbody>\n",
       "</table>\n",
       "</div>"
      ],
      "text/plain": [
       "    Name  Rank\n",
       "1    Mia   451\n",
       "0    Joy   115\n",
       "2  Karan   341\n",
       "3    Tom    84"
      ]
     },
     "execution_count": 4,
     "metadata": {},
     "output_type": "execute_result"
    }
   ],
   "source": [
    "# Question No -19\n",
    "df.reindex([1,0,2,3])"
   ]
  },
  {
   "cell_type": "code",
   "execution_count": 12,
   "id": "63bb0de5",
   "metadata": {
    "collapsed": true
   },
   "outputs": [
    {
     "name": "stdout",
     "output_type": "stream",
     "text": [
      "original dataframe:\n",
      "    Id   Name  Age Gender\n",
      "0   1    Mia   47      F\n",
      "1   2   Sara   38      F\n",
      "2   3    Joy   47      M\n",
      "3   4  Karan   41      M\n",
      "\n",
      "\n",
      "New_Dataframe:\n"
     ]
    },
    {
     "data": {
      "text/html": [
       "<div>\n",
       "<style scoped>\n",
       "    .dataframe tbody tr th:only-of-type {\n",
       "        vertical-align: middle;\n",
       "    }\n",
       "\n",
       "    .dataframe tbody tr th {\n",
       "        vertical-align: top;\n",
       "    }\n",
       "\n",
       "    .dataframe thead th {\n",
       "        text-align: right;\n",
       "    }\n",
       "</style>\n",
       "<table border=\"1\" class=\"dataframe\">\n",
       "  <thead>\n",
       "    <tr style=\"text-align: right;\">\n",
       "      <th></th>\n",
       "      <th>Id</th>\n",
       "      <th>Name</th>\n",
       "      <th>Age</th>\n",
       "      <th>Gender</th>\n",
       "    </tr>\n",
       "  </thead>\n",
       "  <tbody>\n",
       "    <tr>\n",
       "      <th>0</th>\n",
       "      <td>1</td>\n",
       "      <td>Mia</td>\n",
       "      <td>47</td>\n",
       "      <td>F</td>\n",
       "    </tr>\n",
       "    <tr>\n",
       "      <th>1</th>\n",
       "      <td>2</td>\n",
       "      <td>Sara</td>\n",
       "      <td>38</td>\n",
       "      <td>F</td>\n",
       "    </tr>\n",
       "    <tr>\n",
       "      <th>2</th>\n",
       "      <td>3</td>\n",
       "      <td>Joy</td>\n",
       "      <td>47</td>\n",
       "      <td>M</td>\n",
       "    </tr>\n",
       "    <tr>\n",
       "      <th>3</th>\n",
       "      <td>4</td>\n",
       "      <td>Karan</td>\n",
       "      <td>41</td>\n",
       "      <td>M</td>\n",
       "    </tr>\n",
       "  </tbody>\n",
       "</table>\n",
       "</div>"
      ],
      "text/plain": [
       "   Id   Name  Age Gender\n",
       "0   1    Mia   47      F\n",
       "1   2   Sara   38      F\n",
       "2   3    Joy   47      M\n",
       "3   4  Karan   41      M"
      ]
     },
     "execution_count": 12,
     "metadata": {},
     "output_type": "execute_result"
    }
   ],
   "source": [
    "# Question No -20\n",
    "data={'Id':[1,2,3,4],\n",
    "      'Name':['Mia','Sara','Joy','Karan'],\n",
    "      'Age':[47,38,47,41],\n",
    "      'Gender':['1','1','0','0']\n",
    "      }\n",
    "#df = pd.DataFrame(data)\n",
    "print('original dataframe:\\n', df)\n",
    "df = pd.DataFrame(data)\n",
    "\n",
    "print('\\n')\n",
    "df['Gender'] = df['Gender'].map({'0':'M', '1':'F'})\n",
    "\n",
    "print('New_Dataframe:')\n",
    "df"
   ]
  },
  {
   "cell_type": "code",
   "execution_count": 15,
   "id": "01c06ba0",
   "metadata": {
    "collapsed": true
   },
   "outputs": [
    {
     "name": "stdout",
     "output_type": "stream",
     "text": [
      "[331 245 246 475 348 229]\n",
      "[[331 245 246]\n",
      " [475 348 229]]\n"
     ]
    }
   ],
   "source": [
    "# Question No -21\n",
    "import numpy as np\n",
    "dim_1 = np.array([331, 245, 246, 475, 348, 229])\n",
    "arr = np.reshape(dim_1,(2,3))\n",
    "print(dim_1)\n",
    "print(arr)"
   ]
  },
  {
   "cell_type": "code",
   "execution_count": 16,
   "id": "bbe37b8e",
   "metadata": {
    "collapsed": true
   },
   "outputs": [
    {
     "data": {
      "text/html": [
       "<div>\n",
       "<style scoped>\n",
       "    .dataframe tbody tr th:only-of-type {\n",
       "        vertical-align: middle;\n",
       "    }\n",
       "\n",
       "    .dataframe tbody tr th {\n",
       "        vertical-align: top;\n",
       "    }\n",
       "\n",
       "    .dataframe thead th {\n",
       "        text-align: right;\n",
       "    }\n",
       "</style>\n",
       "<table border=\"1\" class=\"dataframe\">\n",
       "  <thead>\n",
       "    <tr style=\"text-align: right;\">\n",
       "      <th></th>\n",
       "      <th>product_a</th>\n",
       "      <th>product_b</th>\n",
       "      <th>product_c</th>\n",
       "    </tr>\n",
       "  </thead>\n",
       "  <tbody>\n",
       "    <tr>\n",
       "      <th>Shop1</th>\n",
       "      <td>10</td>\n",
       "      <td>17</td>\n",
       "      <td>25</td>\n",
       "    </tr>\n",
       "    <tr>\n",
       "      <th>Shop2</th>\n",
       "      <td>20</td>\n",
       "      <td>14</td>\n",
       "      <td>15</td>\n",
       "    </tr>\n",
       "    <tr>\n",
       "      <th>Shop3</th>\n",
       "      <td>30</td>\n",
       "      <td>21</td>\n",
       "      <td>12</td>\n",
       "    </tr>\n",
       "  </tbody>\n",
       "</table>\n",
       "</div>"
      ],
      "text/plain": [
       "       product_a  product_b  product_c\n",
       "Shop1         10         17         25\n",
       "Shop2         20         14         15\n",
       "Shop3         30         21         12"
      ]
     },
     "execution_count": 16,
     "metadata": {},
     "output_type": "execute_result"
    }
   ],
   "source": [
    "# Question No -22\n",
    "import pandas as pd\n",
    "d3={'product_a':[10, 20, 30],\n",
    "   'product_b':[17, 14, 21],\n",
    "   'product_c':[25, 15, 12]}\n",
    "df5 = pd.DataFrame(d3, index=['Shop1', 'Shop2', 'Shop3'])\n",
    "df5"
   ]
  },
  {
   "cell_type": "code",
   "execution_count": 19,
   "id": "e9403d0a",
   "metadata": {
    "collapsed": true
   },
   "outputs": [
    {
     "data": {
      "text/plain": [
       "Shop1    17.333333\n",
       "Shop2    16.333333\n",
       "Shop3    21.000000\n",
       "dtype: float64"
      ]
     },
     "execution_count": 19,
     "metadata": {},
     "output_type": "execute_result"
    }
   ],
   "source": [
    "df5.mean(axis=1)"
   ]
  },
  {
   "cell_type": "code",
   "execution_count": 20,
   "id": "d4e0b70b",
   "metadata": {
    "collapsed": true
   },
   "outputs": [
    {
     "data": {
      "text/plain": [
       "<AxesSubplot:ylabel='Count'>"
      ]
     },
     "execution_count": 20,
     "metadata": {},
     "output_type": "execute_result"
    },
    {
     "data": {
      "image/png": "[encoded data removed]",
      "text/plain": [
       "<Figure size 432x288 with 1 Axes>"
      ]
     },
     "metadata": {
      "needs_background": "light"
     },
     "output_type": "display_data"
    }
   ],
   "source": [
    "# Question No -23\n",
    "import seaborn as sns\n",
    "weight = [34,56,43,22,2,58,89,78,67,56,65,43,23]\n",
    "sns.histplot(weight)"
   ]
  },
  {
   "cell_type": "code",
   "execution_count": 24,
   "id": "f083cdf0",
   "metadata": {
    "scrolled": true
   },
   "outputs": [],
   "source": [
    "# Question No -24\n",
    "series_a =pd.Series ([11, 12, 13, 14, 15])\n",
    "series_b =pd.Series([14, 15, 16, 17, 18])\n",
    "res = list(series_a[~series_a.isin(series_b)])\n",
    "print(res)"
   ]
  },
  {
   "cell_type": "code",
   "execution_count": 2,
   "id": "e58772a4",
   "metadata": {
    "collapsed": true
   },
   "outputs": [
    {
     "data": {
      "text/html": [
       "<div>\n",
       "<style scoped>\n",
       "    .dataframe tbody tr th:only-of-type {\n",
       "        vertical-align: middle;\n",
       "    }\n",
       "\n",
       "    .dataframe tbody tr th {\n",
       "        vertical-align: top;\n",
       "    }\n",
       "\n",
       "    .dataframe thead th {\n",
       "        text-align: right;\n",
       "    }\n",
       "</style>\n",
       "<table border=\"1\" class=\"dataframe\">\n",
       "  <thead>\n",
       "    <tr style=\"text-align: right;\">\n",
       "      <th></th>\n",
       "      <th>0</th>\n",
       "      <th>1</th>\n",
       "      <th>2</th>\n",
       "      <th>3</th>\n",
       "      <th>4</th>\n",
       "      <th>5</th>\n",
       "      <th>6</th>\n",
       "      <th>7</th>\n",
       "    </tr>\n",
       "  </thead>\n",
       "  <tbody>\n",
       "    <tr>\n",
       "      <th>0</th>\n",
       "      <td>6</td>\n",
       "      <td>9</td>\n",
       "      <td>8</td>\n",
       "      <td>3</td>\n",
       "      <td>6</td>\n",
       "      <td>6</td>\n",
       "      <td>8</td>\n",
       "      <td>4</td>\n",
       "    </tr>\n",
       "    <tr>\n",
       "      <th>1</th>\n",
       "      <td>7</td>\n",
       "      <td>7</td>\n",
       "      <td>4</td>\n",
       "      <td>7</td>\n",
       "      <td>7</td>\n",
       "      <td>4</td>\n",
       "      <td>4</td>\n",
       "      <td>8</td>\n",
       "    </tr>\n",
       "    <tr>\n",
       "      <th>2</th>\n",
       "      <td>4</td>\n",
       "      <td>7</td>\n",
       "      <td>7</td>\n",
       "      <td>2</td>\n",
       "      <td>7</td>\n",
       "      <td>7</td>\n",
       "      <td>3</td>\n",
       "      <td>6</td>\n",
       "    </tr>\n",
       "    <tr>\n",
       "      <th>3</th>\n",
       "      <td>3</td>\n",
       "      <td>6</td>\n",
       "      <td>5</td>\n",
       "      <td>1</td>\n",
       "      <td>1</td>\n",
       "      <td>7</td>\n",
       "      <td>1</td>\n",
       "      <td>3</td>\n",
       "    </tr>\n",
       "    <tr>\n",
       "      <th>4</th>\n",
       "      <td>9</td>\n",
       "      <td>4</td>\n",
       "      <td>1</td>\n",
       "      <td>3</td>\n",
       "      <td>5</td>\n",
       "      <td>9</td>\n",
       "      <td>8</td>\n",
       "      <td>7</td>\n",
       "    </tr>\n",
       "  </tbody>\n",
       "</table>\n",
       "</div>"
      ],
      "text/plain": [
       "   0  1  2  3  4  5  6  7\n",
       "0  6  9  8  3  6  6  8  4\n",
       "1  7  7  4  7  7  4  4  8\n",
       "2  4  7  7  2  7  7  3  6\n",
       "3  3  6  5  1  1  7  1  3\n",
       "4  9  4  1  3  5  9  8  7"
      ]
     },
     "execution_count": 2,
     "metadata": {},
     "output_type": "execute_result"
    }
   ],
   "source": [
    "# Question No -25\n",
    "import pandas as pd\n",
    "import numpy as np\n",
    "num = pd.Series(np.random.randint(1, 10, 40))\n",
    "df_numbers = pd.DataFrame(num.values.reshape(5,8))\n",
    "df_numbers"
   ]
  },
  {
   "cell_type": "code",
   "execution_count": 3,
   "id": "3ef1d5c3",
   "metadata": {},
   "outputs": [],
   "source": [
    "# Question No -26\n",
    "test_a = np.array([11,12,13,22,23,44,43,24,45,36])\n",
    "test_b = np.array([17,22,13,22,47,34,39,44,29,28])"
   ]
  },
  {
   "cell_type": "code",
   "execution_count": 4,
   "id": "bae00d9e",
   "metadata": {
    "collapsed": true
   },
   "outputs": [
    {
     "data": {
      "text/plain": [
       "array([13, 22, 44])"
      ]
     },
     "execution_count": 4,
     "metadata": {},
     "output_type": "execute_result"
    }
   ],
   "source": [
    "np.intersect1d(test_a,test_b)"
   ]
  },
  {
   "cell_type": "code",
   "execution_count": 30,
   "id": "91083244",
   "metadata": {
    "collapsed": true
   },
   "outputs": [
    {
     "name": "stdout",
     "output_type": "stream",
     "text": [
      "<class 'pandas.core.frame.DataFrame'>\n",
      "RangeIndex: 144 entries, 0 to 143\n",
      "Data columns (total 3 columns):\n",
      " #   Column      Non-Null Count  Dtype   \n",
      "---  ------      --------------  -----   \n",
      " 0   year        144 non-null    int64   \n",
      " 1   month       144 non-null    category\n",
      " 2   passengers  144 non-null    int64   \n",
      "dtypes: category(1), int64(2)\n",
      "memory usage: 2.9 KB\n"
     ]
    },
    {
     "data": {
      "text/plain": [
       "year             int64\n",
       "month         category\n",
       "passengers       int64\n",
       "dtype: object"
      ]
     },
     "execution_count": 30,
     "metadata": {},
     "output_type": "execute_result"
    }
   ],
   "source": [
    "# Question No -27\n",
    "import seaborn as sns\n",
    "flights = sns.load_dataset('flights')\n",
    "flights.info()\n",
    "flights.dtypes"
   ]
  },
  {
   "cell_type": "code",
   "execution_count": 31,
   "id": "be61e264",
   "metadata": {
    "collapsed": true
   },
   "outputs": [
    {
     "data": {
      "text/html": [
       "<div>\n",
       "<style scoped>\n",
       "    .dataframe tbody tr th:only-of-type {\n",
       "        vertical-align: middle;\n",
       "    }\n",
       "\n",
       "    .dataframe tbody tr th {\n",
       "        vertical-align: top;\n",
       "    }\n",
       "\n",
       "    .dataframe thead th {\n",
       "        text-align: right;\n",
       "    }\n",
       "</style>\n",
       "<table border=\"1\" class=\"dataframe\">\n",
       "  <thead>\n",
       "    <tr style=\"text-align: right;\">\n",
       "      <th></th>\n",
       "      <th>Product</th>\n",
       "      <th>Country</th>\n",
       "      <th>Sales</th>\n",
       "    </tr>\n",
       "  </thead>\n",
       "  <tbody>\n",
       "    <tr>\n",
       "      <th>0</th>\n",
       "      <td>A</td>\n",
       "      <td>USA</td>\n",
       "      <td>44000</td>\n",
       "    </tr>\n",
       "    <tr>\n",
       "      <th>1</th>\n",
       "      <td>J</td>\n",
       "      <td>Japan</td>\n",
       "      <td>43000</td>\n",
       "    </tr>\n",
       "    <tr>\n",
       "      <th>2</th>\n",
       "      <td>A</td>\n",
       "      <td>Europe</td>\n",
       "      <td>54000</td>\n",
       "    </tr>\n",
       "    <tr>\n",
       "      <th>3</th>\n",
       "      <td>L</td>\n",
       "      <td>Japan</td>\n",
       "      <td>95600</td>\n",
       "    </tr>\n",
       "    <tr>\n",
       "      <th>4</th>\n",
       "      <td>R</td>\n",
       "      <td>Europe</td>\n",
       "      <td>79000</td>\n",
       "    </tr>\n",
       "    <tr>\n",
       "      <th>5</th>\n",
       "      <td>A</td>\n",
       "      <td>USA</td>\n",
       "      <td>67000</td>\n",
       "    </tr>\n",
       "    <tr>\n",
       "      <th>6</th>\n",
       "      <td>R</td>\n",
       "      <td>USA</td>\n",
       "      <td>68000</td>\n",
       "    </tr>\n",
       "    <tr>\n",
       "      <th>7</th>\n",
       "      <td>J</td>\n",
       "      <td>Japan</td>\n",
       "      <td>38000</td>\n",
       "    </tr>\n",
       "    <tr>\n",
       "      <th>8</th>\n",
       "      <td>L</td>\n",
       "      <td>USA</td>\n",
       "      <td>59000</td>\n",
       "    </tr>\n",
       "    <tr>\n",
       "      <th>9</th>\n",
       "      <td>A</td>\n",
       "      <td>Europe</td>\n",
       "      <td>60000</td>\n",
       "    </tr>\n",
       "  </tbody>\n",
       "</table>\n",
       "</div>"
      ],
      "text/plain": [
       "  Product Country  Sales\n",
       "0       A     USA  44000\n",
       "1       J   Japan  43000\n",
       "2       A  Europe  54000\n",
       "3       L   Japan  95600\n",
       "4       R  Europe  79000\n",
       "5       A     USA  67000\n",
       "6       R     USA  68000\n",
       "7       J   Japan  38000\n",
       "8       L     USA  59000\n",
       "9       A  Europe  60000"
      ]
     },
     "execution_count": 31,
     "metadata": {},
     "output_type": "execute_result"
    }
   ],
   "source": [
    "# Question No -28\n",
    "import pandas as pd\n",
    "df = pd.DataFrame({'Product': ['A', 'J', 'A', 'L', 'R', 'A', 'R', 'J', 'L', 'A'],\n",
    "'Country': ['USA', 'Japan', 'Europe', 'Japan', 'Europe', 'USA', 'USA', 'Japan',\n",
    "'USA', 'Europe'],\n",
    "'Sales': [44000, 43000, 54000, 95600, 79000, 67000, 68000, 38000, 59000, 60000]})\n",
    "\n",
    "df = pd.DataFrame(df)\n",
    "df"
   ]
  },
  {
   "cell_type": "code",
   "execution_count": 35,
   "id": "91ed1d2f",
   "metadata": {
    "collapsed": true
   },
   "outputs": [
    {
     "data": {
      "text/html": [
       "<div>\n",
       "<style scoped>\n",
       "    .dataframe tbody tr th:only-of-type {\n",
       "        vertical-align: middle;\n",
       "    }\n",
       "\n",
       "    .dataframe tbody tr th {\n",
       "        vertical-align: top;\n",
       "    }\n",
       "\n",
       "    .dataframe thead th {\n",
       "        text-align: right;\n",
       "    }\n",
       "</style>\n",
       "<table border=\"1\" class=\"dataframe\">\n",
       "  <thead>\n",
       "    <tr style=\"text-align: right;\">\n",
       "      <th></th>\n",
       "      <th></th>\n",
       "      <th>Sales</th>\n",
       "    </tr>\n",
       "    <tr>\n",
       "      <th>Product</th>\n",
       "      <th>Country</th>\n",
       "      <th></th>\n",
       "    </tr>\n",
       "  </thead>\n",
       "  <tbody>\n",
       "    <tr>\n",
       "      <th rowspan=\"2\" valign=\"top\">A</th>\n",
       "      <th>Europe</th>\n",
       "      <td>114000</td>\n",
       "    </tr>\n",
       "    <tr>\n",
       "      <th>USA</th>\n",
       "      <td>111000</td>\n",
       "    </tr>\n",
       "    <tr>\n",
       "      <th>J</th>\n",
       "      <th>Japan</th>\n",
       "      <td>81000</td>\n",
       "    </tr>\n",
       "    <tr>\n",
       "      <th rowspan=\"2\" valign=\"top\">L</th>\n",
       "      <th>Japan</th>\n",
       "      <td>95600</td>\n",
       "    </tr>\n",
       "    <tr>\n",
       "      <th>USA</th>\n",
       "      <td>59000</td>\n",
       "    </tr>\n",
       "    <tr>\n",
       "      <th rowspan=\"2\" valign=\"top\">R</th>\n",
       "      <th>Europe</th>\n",
       "      <td>79000</td>\n",
       "    </tr>\n",
       "    <tr>\n",
       "      <th>USA</th>\n",
       "      <td>68000</td>\n",
       "    </tr>\n",
       "  </tbody>\n",
       "</table>\n",
       "</div>"
      ],
      "text/plain": [
       "                  Sales\n",
       "Product Country        \n",
       "A       Europe   114000\n",
       "        USA      111000\n",
       "J       Japan     81000\n",
       "L       Japan     95600\n",
       "        USA       59000\n",
       "R       Europe    79000\n",
       "        USA       68000"
      ]
     },
     "execution_count": 35,
     "metadata": {},
     "output_type": "execute_result"
    }
   ],
   "source": [
    "df.groupby(['Product', 'Country'])[['Sales']].sum()"
   ]
  },
  {
   "cell_type": "code",
   "execution_count": 36,
   "id": "0488fad2",
   "metadata": {
    "collapsed": true
   },
   "outputs": [
    {
     "data": {
      "text/html": [
       "<div>\n",
       "<style scoped>\n",
       "    .dataframe tbody tr th:only-of-type {\n",
       "        vertical-align: middle;\n",
       "    }\n",
       "\n",
       "    .dataframe tbody tr th {\n",
       "        vertical-align: top;\n",
       "    }\n",
       "\n",
       "    .dataframe thead tr th {\n",
       "        text-align: left;\n",
       "    }\n",
       "\n",
       "    .dataframe thead tr:last-of-type th {\n",
       "        text-align: right;\n",
       "    }\n",
       "</style>\n",
       "<table border=\"1\" class=\"dataframe\">\n",
       "  <thead>\n",
       "    <tr>\n",
       "      <th></th>\n",
       "      <th colspan=\"8\" halign=\"left\">Sales</th>\n",
       "    </tr>\n",
       "    <tr>\n",
       "      <th></th>\n",
       "      <th>count</th>\n",
       "      <th>mean</th>\n",
       "      <th>std</th>\n",
       "      <th>min</th>\n",
       "      <th>25%</th>\n",
       "      <th>50%</th>\n",
       "      <th>75%</th>\n",
       "      <th>max</th>\n",
       "    </tr>\n",
       "    <tr>\n",
       "      <th>Country</th>\n",
       "      <th></th>\n",
       "      <th></th>\n",
       "      <th></th>\n",
       "      <th></th>\n",
       "      <th></th>\n",
       "      <th></th>\n",
       "      <th></th>\n",
       "      <th></th>\n",
       "    </tr>\n",
       "  </thead>\n",
       "  <tbody>\n",
       "    <tr>\n",
       "      <th>Europe</th>\n",
       "      <td>3.0</td>\n",
       "      <td>64333.333333</td>\n",
       "      <td>13051.181300</td>\n",
       "      <td>54000.0</td>\n",
       "      <td>57000.0</td>\n",
       "      <td>60000.0</td>\n",
       "      <td>69500.0</td>\n",
       "      <td>79000.0</td>\n",
       "    </tr>\n",
       "    <tr>\n",
       "      <th>Japan</th>\n",
       "      <td>3.0</td>\n",
       "      <td>58866.666667</td>\n",
       "      <td>31910.082001</td>\n",
       "      <td>38000.0</td>\n",
       "      <td>40500.0</td>\n",
       "      <td>43000.0</td>\n",
       "      <td>69300.0</td>\n",
       "      <td>95600.0</td>\n",
       "    </tr>\n",
       "    <tr>\n",
       "      <th>USA</th>\n",
       "      <td>4.0</td>\n",
       "      <td>59500.000000</td>\n",
       "      <td>11090.536506</td>\n",
       "      <td>44000.0</td>\n",
       "      <td>55250.0</td>\n",
       "      <td>63000.0</td>\n",
       "      <td>67250.0</td>\n",
       "      <td>68000.0</td>\n",
       "    </tr>\n",
       "  </tbody>\n",
       "</table>\n",
       "</div>"
      ],
      "text/plain": [
       "        Sales                                                                  \\\n",
       "        count          mean           std      min      25%      50%      75%   \n",
       "Country                                                                         \n",
       "Europe    3.0  64333.333333  13051.181300  54000.0  57000.0  60000.0  69500.0   \n",
       "Japan     3.0  58866.666667  31910.082001  38000.0  40500.0  43000.0  69300.0   \n",
       "USA       4.0  59500.000000  11090.536506  44000.0  55250.0  63000.0  67250.0   \n",
       "\n",
       "                  \n",
       "             max  \n",
       "Country           \n",
       "Europe   79000.0  \n",
       "Japan    95600.0  \n",
       "USA      68000.0  "
      ]
     },
     "execution_count": 36,
     "metadata": {},
     "output_type": "execute_result"
    }
   ],
   "source": [
    "# Question No -29\n",
    "df.groupby([\"Country\"])[[\"Sales\"]].describe()"
   ]
  },
  {
   "cell_type": "code",
   "execution_count": 24,
   "id": "f77d3cd3",
   "metadata": {
    "collapsed": true
   },
   "outputs": [
    {
     "data": {
      "text/plain": [
       "array([[ 3,  2,  1,  0],\n",
       "       [ 7,  6,  5,  4],\n",
       "       [11, 10,  9,  8]])"
      ]
     },
     "execution_count": 24,
     "metadata": {},
     "output_type": "execute_result"
    }
   ],
   "source": [
    "# Question No -30\n",
    "import numpy as np\n",
    "num_array = np.arange(12).reshape(3,4)\n",
    "num_array\n",
    "num_array[: , ::-1]"
   ]
  },
  {
   "cell_type": "code",
   "execution_count": 25,
   "id": "249cdcc9",
   "metadata": {
    "collapsed": true
   },
   "outputs": [
    {
     "data": {
      "text/plain": [
       "array([[ 0,  1,  2,  3],\n",
       "       [ 4,  5,  6,  7],\n",
       "       [ 8,  9, 10, 11]])"
      ]
     },
     "execution_count": 25,
     "metadata": {},
     "output_type": "execute_result"
    }
   ],
   "source": [
    "num_array = np.arange(12).reshape(3,4)\n",
    "num_array[::-1 , :]\n",
    "num_array"
   ]
  }
 ],
 "metadata": {
  "kernelspec": {
   "display_name": "Python 3 (ipykernel)",
   "language": "python",
   "name": "python3"
  },
  "language_info": {
   "codemirror_mode": {
    "name": "ipython",
    "version": 3
   },
   "file_extension": ".py",
   "mimetype": "text/x-python",
   "name": "python",
   "nbconvert_exporter": "python",
   "pygments_lexer": "ipython3",
   "version": "3.9.12"
  }
 },
 "nbformat": 4,
 "nbformat_minor": 5
}
